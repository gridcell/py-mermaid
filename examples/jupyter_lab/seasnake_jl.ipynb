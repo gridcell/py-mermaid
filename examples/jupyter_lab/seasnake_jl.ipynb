{
 "cells": [
  {
   "cell_type": "code",
   "execution_count": null,
   "id": "9743c3cc-f68a-4b80-87be-f43aa9482a7e",
   "metadata": {
    "tags": []
   },
   "outputs": [],
   "source": [
    "from seasnake.auth import MermaidAuth\n",
    "from seasnake.projects import Project\n",
    "from seasnake.summaries import FishBeltTransect"
   ]
  },
  {
   "cell_type": "code",
   "execution_count": null,
   "id": "600285ed-2170-443a-ac89-c416e735df36",
   "metadata": {
    "tags": []
   },
   "outputs": [],
   "source": [
    "auth = MermaidAuth()\n",
    "token = auth.get_token()"
   ]
  },
  {
   "cell_type": "code",
   "execution_count": null,
   "id": "58502e20-96e9-4049-8522-0e196eee58d2",
   "metadata": {
    "tags": []
   },
   "outputs": [],
   "source": [
    "proj = Project(token=token)\n",
    "my_projects = proj.my_projects()"
   ]
  },
  {
   "cell_type": "code",
   "execution_count": null,
   "id": "9e8853dc-ec14-4bdc-a4e9-20b79ebe81ab",
   "metadata": {},
   "outputs": [],
   "source": [
    "my_projects[[\"id\", \"name\"]]"
   ]
  },
  {
   "cell_type": "code",
   "execution_count": null,
   "id": "e2ed8334-8eeb-4000-8e5e-665835b46172",
   "metadata": {
    "tags": []
   },
   "outputs": [],
   "source": [
    "project_id = \"<PROJECT ID>\""
   ]
  },
  {
   "cell_type": "code",
   "execution_count": null,
   "id": "3f88582e-7d5c-492a-9869-c845ad97008e",
   "metadata": {
    "tags": []
   },
   "outputs": [],
   "source": [
    "fish_belt_transect = FishBeltTransect(token=token)"
   ]
  },
  {
   "cell_type": "code",
   "execution_count": null,
   "id": "1169c7a8-a8b5-4a3d-bbfb-8d30ec1e5c1a",
   "metadata": {
    "tags": []
   },
   "outputs": [],
   "source": [
    "df = fish_belt_transect.observations(project_id)"
   ]
  },
  {
   "cell_type": "code",
   "execution_count": null,
   "id": "11922203-426f-4a30-b965-debdcfcaa32f",
   "metadata": {},
   "outputs": [],
   "source": [
    "df[[\"longitude\", \"latitude\", \"project_name\",  \"site_name\", \"size_bin\", \"size\",\"count\", \"biomass_kgha\"]]"
   ]
  }
 ],
 "metadata": {
  "kernelspec": {
   "display_name": "Python 3 (ipykernel)",
   "language": "python",
   "name": "python3"
  },
  "language_info": {
   "codemirror_mode": {
    "name": "ipython",
    "version": 3
   },
   "file_extension": ".py",
   "mimetype": "text/x-python",
   "name": "python",
   "nbconvert_exporter": "python",
   "pygments_lexer": "ipython3",
   "version": "3.10.4"
  }
 },
 "nbformat": 4,
 "nbformat_minor": 5
}
